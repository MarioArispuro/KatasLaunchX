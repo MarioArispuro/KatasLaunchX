{
 "cells": [
  {
   "cell_type": "markdown",
   "metadata": {},
   "source": [
    "### Ejercicio: Uso de funciones en Python\n",
    "#### Ejercicio 1: Trabajar con argumentos en funciones\n",
    "Los argumentos requeridos en las funciones se utilizan cuando las funciones necesitan que esos argumentos funcionen correctamente. En este ejercicio, construirás un informe de combustible que requiere información de varias ubicaciones de combustible en todo el cohete.\n",
    "\n",
    "Comienza por crear una función que necesite tres lecturas de combustible y devuelva un informe:"
   ]
  },
  {
   "cell_type": "code",
   "execution_count": 19,
   "metadata": {},
   "outputs": [],
   "source": [
    "# Función para leer 3 tanques de combustible y muestre el promedio\n",
    "def lecturas_combustible(tanque1,tanque2,tanque3):\n",
    "    promedio = (tanque1+tanque2+tanque3)/3\n",
    "    return f\"\"\"El promedio de combustible de los 3 tanques es: {promedio}%\n",
    "    Lectura tanque 1: {tanque1}%\n",
    "    Lectura tanque 2: {tanque2}%\n",
    "    Lectura tanque 3: {tanque3}%\n",
    "    \"\"\""
   ]
  },
  {
   "cell_type": "markdown",
   "metadata": {},
   "source": [
    "Ahora que hemos definido la función de informes, vamos a comprobarlo. Para esta misión, los tanques no están llenos:"
   ]
  },
  {
   "cell_type": "code",
   "execution_count": 21,
   "metadata": {},
   "outputs": [
    {
     "name": "stdout",
     "output_type": "stream",
     "text": [
      "El promedio de combustible de los 3 tanques es: 0.0%\n",
      "    Lectura tanque 1: 0%\n",
      "    Lectura tanque 2: 0%\n",
      "    Lectura tanque 3: 0%\n",
      "    \n"
     ]
    }
   ],
   "source": [
    "# Llamamos a la función que genera el reporte print(funcion(tanque1, tanque2, tanque3))\n",
    "print(lecturas_combustible(0,0,0))"
   ]
  },
  {
   "cell_type": "markdown",
   "metadata": {},
   "source": [
    "En lugar de simplemente crear el informe, la función también está calculando el promedio. Mejora la legibilidad extrayendo el cálculo promedio de la función en una nueva función para que el promedio se pueda hacer de forma independiente:"
   ]
  },
  {
   "cell_type": "code",
   "execution_count": 23,
   "metadata": {},
   "outputs": [],
   "source": [
    "# Función promedio\n",
    "def promedio(values):    \n",
    "    return sum(values) / len(values)"
   ]
  },
  {
   "cell_type": "markdown",
   "metadata": {},
   "source": [
    "Ahora actualiza la función de informes para llamando a la nueva función del promedio:"
   ]
  },
  {
   "cell_type": "code",
   "execution_count": 27,
   "metadata": {},
   "outputs": [],
   "source": [
    "# Actualiza la función\n",
    "def lecturas_combustible(tanque1,tanque2,tanque3):\n",
    "    return f\"\"\"El promedio de combustible de los 3 tanques es: {promedio([tanque1,tanque2,tanque3])}%\n",
    "    Lectura tanque 1: {tanque1}%\n",
    "    Lectura tanque 2: {tanque2}%\n",
    "    Lectura tanque 3: {tanque3}%\n",
    "    \"\"\""
   ]
  },
  {
   "cell_type": "code",
   "execution_count": 29,
   "metadata": {},
   "outputs": [
    {
     "name": "stdout",
     "output_type": "stream",
     "text": [
      "El promedio de combustible de los 3 tanques es: 50.0%\n",
      "    Lectura tanque 1: 25%\n",
      "    Lectura tanque 2: 50%\n",
      "    Lectura tanque 3: 75%\n",
      "    \n"
     ]
    }
   ],
   "source": [
    "print(lecturas_combustible(25, 50, 75))"
   ]
  },
  {
   "cell_type": "markdown",
   "metadata": {},
   "source": [
    "### Ejercicio 2: Trabajo con argumentos de palabra clave\n",
    "#### Ejercicio : Trabajar con argumentos de palabras clave en funciones\n",
    "En este ejercicio, construirás un informe de cohete que requiere varias piezas de información, como el tiempo hasta el destino, el combustible a la izquierda y el nombre del destino. Comienza por crear una función que creará un informe preciso de la misión:\n",
    "\n"
   ]
  },
  {
   "cell_type": "code",
   "execution_count": 31,
   "metadata": {},
   "outputs": [],
   "source": [
    "# Función con un informe preciso de la misión. Considera hora de prelanzamiento, tiempo de vuelo, destino, tanque externo y tanque interno\n",
    "def informe_mision(hora_prelanzamiento,tiempo_vuelo,destino,tanque_externo,tanque_interno):\n",
    "    return f\"\"\"\n",
    "    Misión con destino a: {destino}\n",
    "    Tiempo de viaje: {hora_prelanzamiento+tiempo_vuelo} minutos\n",
    "    Total de combustible: {tanque_externo+tanque_interno}\n",
    "    \"\"\""
   ]
  },
  {
   "cell_type": "code",
   "execution_count": 33,
   "metadata": {},
   "outputs": [
    {
     "name": "stdout",
     "output_type": "stream",
     "text": [
      "\n",
      "    Misión con destino a: Luna\n",
      "    Tiempo de viaje: 85 minutos\n",
      "    Total de combustible: 400000\n",
      "    \n"
     ]
    }
   ],
   "source": [
    "print(informe_mision(20, 65, \"Luna\", 150000, 250000))"
   ]
  },
  {
   "cell_type": "markdown",
   "metadata": {},
   "source": [
    "La función es problemática porque no se puede adaptar para minutos adicionales o tanques adicionales de combustible. Hazlo más flexible permitiendo cualquier número de pasos basados en el tiempo y cualquier número de tanques. En lugar de usar *args y **kwargs, aprovecha el hecho de que puedes usar cualquier nombre que desees. Asegurate que la función sea más legible mediante el uso de nombres de variables que están asociados con las entradas, como *minutes y **fuel_reservoirs:"
   ]
  },
  {
   "cell_type": "code",
   "execution_count": 34,
   "metadata": {},
   "outputs": [],
   "source": [
    "# Escribe tu nueva función de reporte considerando lo anterior\n",
    "def informe_mision(destino,*minutos,**tanques_reserva):\n",
    "    return f\"\"\"\n",
    "    Misión con destino a: {destino}\n",
    "    Tiempo de viaje: {sum(minutos)} minutos\n",
    "    Total de combustible:  {sum(tanques_reserva.values())}\n",
    "    \"\"\""
   ]
  },
  {
   "cell_type": "code",
   "execution_count": 35,
   "metadata": {},
   "outputs": [
    {
     "name": "stdout",
     "output_type": "stream",
     "text": [
      "\n",
      "    Misión con destino a: Luna\n",
      "    Tiempo de viaje: 89 minutos\n",
      "    Total de combustible:  400000\n",
      "    \n"
     ]
    }
   ],
   "source": [
    "print(informe_mision(\"Luna\", 12, 18, 59, pincipal=150000, externo=250000))"
   ]
  },
  {
   "cell_type": "markdown",
   "metadata": {},
   "source": [
    "Debido a que el combustible que queda en los tanques es específico de cada tanque, actualiza la función para usar el nombre de cada tanque en el informe:"
   ]
  },
  {
   "cell_type": "code",
   "execution_count": 49,
   "metadata": {},
   "outputs": [],
   "source": [
    "# Escribe tu nueva función\n",
    "def informe_mision(destino,*minutos,**tanques_reserva):\n",
    "    reporte = f\"\"\"\n",
    "    Misión con destino a: {destino}\n",
    "    Tiempo de viaje: {sum(minutos)} minutos\n",
    "    Total de combustible: {sum(tanques_reserva.values())}\n",
    "    \"\"\"\n",
    "    for nombre_tanque, galones in tanques_reserva.items():\n",
    "        reporte += f\"{nombre_tanque} {galones} galones restantes\\n\"\n",
    "    return reporte"
   ]
  },
  {
   "cell_type": "code",
   "execution_count": 50,
   "metadata": {},
   "outputs": [
    {
     "name": "stdout",
     "output_type": "stream",
     "text": [
      "\n",
      "    Misión con destino a: Luna\n",
      "    Tiempo de viaje: 89 minutos\n",
      "    Total de combustible: 400000\n",
      "    pincipal 150000 galones restantes\n",
      "externo 250000 galones restantes\n",
      "\n"
     ]
    }
   ],
   "source": [
    "print(informe_mision(\"Luna\", 12, 18, 59, pincipal=150000, externo=250000))"
   ]
  }
 ],
 "metadata": {
  "interpreter": {
   "hash": "9efce205f64ad363cd9f14615485aca38ee4ef0915866e318aa83c8d0c93f6fc"
  },
  "kernelspec": {
   "display_name": "Python 3.10.2 64-bit",
   "language": "python",
   "name": "python3"
  },
  "language_info": {
   "codemirror_mode": {
    "name": "ipython",
    "version": 3
   },
   "file_extension": ".py",
   "mimetype": "text/x-python",
   "name": "python",
   "nbconvert_exporter": "python",
   "pygments_lexer": "ipython3",
   "version": "3.10.2"
  },
  "orig_nbformat": 4
 },
 "nbformat": 4,
 "nbformat_minor": 2
}
